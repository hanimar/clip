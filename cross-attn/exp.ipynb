{
 "cells": [
  {
   "cell_type": "code",
   "execution_count": 1,
   "id": "8874d73a-489c-4512-93af-7892801bcb67",
   "metadata": {},
   "outputs": [],
   "source": [
    "%load_ext autoreload\n",
    "%autoreload 2"
   ]
  },
  {
   "cell_type": "code",
   "execution_count": 2,
   "id": "d06ae138-9852-40a1-9246-bc5acfe6d170",
   "metadata": {},
   "outputs": [
    {
     "name": "stdout",
     "output_type": "stream",
     "text": [
      "env: TOKENIZERS_PARALLELISM=false\n"
     ]
    }
   ],
   "source": [
    "%env TOKENIZERS_PARALLELISM=false"
   ]
  },
  {
   "cell_type": "code",
   "execution_count": 3,
   "id": "f1ade4e6-d3ab-43dc-b80c-4487cc880f4d",
   "metadata": {},
   "outputs": [],
   "source": [
    "import torch\n",
    "import torch.nn as nn\n",
    "import torch.nn.functional as F\n",
    "\n",
    "from torch.utils.data import DataLoader\n",
    "\n",
    "from data import build_dataset, get_collate_fn, get_tokenizer"
   ]
  },
  {
   "cell_type": "code",
   "execution_count": 4,
   "id": "9d2486e2-3aed-4223-bab6-caa25a066a31",
   "metadata": {},
   "outputs": [
    {
     "name": "stdout",
     "output_type": "stream",
     "text": [
      "loading annotations into memory...\n",
      "Done (t=0.34s)\n",
      "creating index...\n",
      "index created!\n"
     ]
    }
   ],
   "source": [
    "data = build_dataset()\n",
    "collate_fn = get_collate_fn()\n",
    "loader = DataLoader(data, 16, collate_fn=collate_fn, num_workers=8)"
   ]
  },
  {
   "cell_type": "code",
   "execution_count": 5,
   "id": "f18ba2e3-a355-4799-b086-27b4b014d9bc",
   "metadata": {},
   "outputs": [],
   "source": [
    "batch = next(iter(loader))"
   ]
  },
  {
   "cell_type": "code",
   "execution_count": 6,
   "id": "d21b81b1-877e-404d-afdd-b007a30bff3a",
   "metadata": {},
   "outputs": [],
   "source": [
    "images = batch[\"images\"]\n",
    "input_ids = batch[\"input_ids\"]\n",
    "attention_mask = batch[\"attention_mask\"]"
   ]
  },
  {
   "cell_type": "code",
   "execution_count": 7,
   "id": "fdd405f7-b2b8-412b-bfd4-7a5304e1b035",
   "metadata": {},
   "outputs": [],
   "source": [
    "from model import Img2TextTransformer"
   ]
  },
  {
   "cell_type": "code",
   "execution_count": 8,
   "id": "196a7287-daa9-40d4-8fe1-80bf5055831d",
   "metadata": {},
   "outputs": [],
   "source": [
    "model = Img2TextTransformer()"
   ]
  },
  {
   "cell_type": "code",
   "execution_count": 9,
   "id": "4b3290c6-0284-4b99-af5d-f2fe1a571df8",
   "metadata": {},
   "outputs": [
    {
     "data": {
      "text/plain": [
       "torch.Size([16, 18])"
      ]
     },
     "execution_count": 9,
     "metadata": {},
     "output_type": "execute_result"
    }
   ],
   "source": [
    "input_ids.shape"
   ]
  },
  {
   "cell_type": "code",
   "execution_count": 10,
   "id": "82b44729-d0bb-43c1-8b7d-02b2eec4c4d7",
   "metadata": {},
   "outputs": [
    {
     "data": {
      "text/plain": [
       "torch.Size([16, 18, 50258])"
      ]
     },
     "execution_count": 10,
     "metadata": {},
     "output_type": "execute_result"
    }
   ],
   "source": [
    "model(images, input_ids, attention_mask).shape"
   ]
  },
  {
   "cell_type": "code",
   "execution_count": 11,
   "id": "1b8fa61c-f203-4eef-a5fa-c21dc7ca9daa",
   "metadata": {},
   "outputs": [
    {
     "name": "stdout",
     "output_type": "stream",
     "text": [
      "32802530\n"
     ]
    }
   ],
   "source": [
    "total = 0\n",
    "for p in model.parameters():\n",
    "    total += p.numel()\n",
    "print(total)"
   ]
  },
  {
   "cell_type": "code",
   "execution_count": 12,
   "id": "14c0811f-1579-4805-a00f-6a2bea6f205a",
   "metadata": {},
   "outputs": [],
   "source": [
    "logits = model(images, input_ids[:, :-1], attention_mask[:, :-1]).transpose(-2, -1)"
   ]
  },
  {
   "cell_type": "code",
   "execution_count": 13,
   "id": "43efd42c-38db-42e2-8061-8481667dbc75",
   "metadata": {},
   "outputs": [
    {
     "data": {
      "text/plain": [
       "torch.Size([16, 50258, 17])"
      ]
     },
     "execution_count": 13,
     "metadata": {},
     "output_type": "execute_result"
    }
   ],
   "source": [
    "logits.shape"
   ]
  },
  {
   "cell_type": "code",
   "execution_count": 14,
   "id": "2b7360e4-508a-43cd-a9f2-7adcd279ea10",
   "metadata": {},
   "outputs": [],
   "source": [
    "targets = input_ids[:, 1:]"
   ]
  },
  {
   "cell_type": "code",
   "execution_count": 15,
   "id": "d5d38f4d-0b9e-4025-a181-9cc4dc315da1",
   "metadata": {},
   "outputs": [
    {
     "data": {
      "text/plain": [
       "torch.Size([16, 17])"
      ]
     },
     "execution_count": 15,
     "metadata": {},
     "output_type": "execute_result"
    }
   ],
   "source": [
    "targets.shape"
   ]
  },
  {
   "cell_type": "code",
   "execution_count": 16,
   "id": "94c5ff44-4709-4a98-8c3f-72374e4ac141",
   "metadata": {},
   "outputs": [
    {
     "data": {
      "text/plain": [
       "tensor(8.0080, grad_fn=<MeanBackward0>)"
      ]
     },
     "execution_count": 16,
     "metadata": {},
     "output_type": "execute_result"
    }
   ],
   "source": [
    "(F.cross_entropy(logits, targets, reduction=\"none\") * attention_mask[:, 1:]).mean()"
   ]
  },
  {
   "cell_type": "code",
   "execution_count": 18,
   "id": "4a16e5fb-02b8-4a9b-95e1-09825510b064",
   "metadata": {},
   "outputs": [],
   "source": [
    "tokenizer = get_tokenizer()"
   ]
  },
  {
   "cell_type": "code",
   "execution_count": 20,
   "id": "af7230a3-b45b-4ed6-8be6-c31f273ab00c",
   "metadata": {},
   "outputs": [
    {
     "data": {
      "text/plain": [
       "{'input_ids': [50257], 'attention_mask': [1]}"
      ]
     },
     "execution_count": 20,
     "metadata": {},
     "output_type": "execute_result"
    }
   ],
   "source": [
    "tokenizer(tokenizer.bos_token)"
   ]
  },
  {
   "cell_type": "code",
   "execution_count": 23,
   "id": "7595e6f8-b5f7-4d58-8664-b8c1b714f5df",
   "metadata": {},
   "outputs": [],
   "source": [
    "image = images[0]\n",
    "input_ids = torch.LongTensor(tokenizer(tokenizer.bos_token)[\"input_ids\"])"
   ]
  },
  {
   "cell_type": "code",
   "execution_count": 27,
   "id": "97220614-3fdb-4301-aa84-aecac657d252",
   "metadata": {},
   "outputs": [
    {
     "data": {
      "text/plain": [
       "torch.Size([1, 1, 50258])"
      ]
     },
     "execution_count": 27,
     "metadata": {},
     "output_type": "execute_result"
    }
   ],
   "source": [
    "model.forward_single(image, input_ids).shape"
   ]
  },
  {
   "cell_type": "code",
   "execution_count": null,
   "id": "d34fbab3-8a2c-4c45-ac89-934c0c6f3d44",
   "metadata": {},
   "outputs": [],
   "source": []
  }
 ],
 "metadata": {
  "kernelspec": {
   "display_name": "Python 3 (ipykernel)",
   "language": "python",
   "name": "python3"
  },
  "language_info": {
   "codemirror_mode": {
    "name": "ipython",
    "version": 3
   },
   "file_extension": ".py",
   "mimetype": "text/x-python",
   "name": "python",
   "nbconvert_exporter": "python",
   "pygments_lexer": "ipython3",
   "version": "3.10.16"
  }
 },
 "nbformat": 4,
 "nbformat_minor": 5
}
